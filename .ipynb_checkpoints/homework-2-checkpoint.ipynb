{
 "cells": [
  {
   "cell_type": "code",
   "execution_count": 2,
   "metadata": {},
   "outputs": [
    {
     "name": "stdout",
     "output_type": "stream",
     "text": [
      "введите словоholiday\n",
      "i\n"
     ]
    }
   ],
   "source": [
    "#задание 1\n",
    "word = input('введите слово')\n",
    "\n",
    "x = len(word)\n",
    "#если длина слова - четное значение, то выводим срез. Инчае - среднюю букву \n",
    "if x % 2 == 0:\n",
    "    print(word[x // 2 - 1:x // 2 + 1])\n",
    "else: print(word[x // 2])\n"
   ]
  },
  {
   "cell_type": "code",
   "execution_count": 4,
   "metadata": {},
   "outputs": [
    {
     "name": "stdout",
     "output_type": "stream",
     "text": [
      "введите число 4\n",
      "введите число 4\n",
      "введите число 4\n",
      "введите число 3\n",
      "введите число 2\n",
      "введите число 2\n",
      "введите число 0\n",
      "сумма чисел  19\n"
     ]
    }
   ],
   "source": [
    "#задание 2\n",
    "x = int(input('введите число '))\n",
    "S = 0\n",
    "#суммируем вводимые значения, пока не будет введен 0\n",
    "while x != 0:\n",
    "    S = S + x\n",
    "    x = x = int(input('введите число '))\n",
    "print('сумма чисел ', S)"
   ]
  },
  {
   "cell_type": "code",
   "execution_count": 53,
   "metadata": {},
   "outputs": [
    {
     "name": "stdout",
     "output_type": "stream",
     "text": [
      "Alex и Emma\n",
      "Arthur и Kate\n",
      "John и Kira\n",
      "Peter и Liza\n",
      "Richard и Trisha\n"
     ]
    }
   ],
   "source": [
    "#задание 3\n",
    "boys = ['Peter', 'Alex', 'John', 'Arthur', 'Richard']\n",
    "girls = ['Kate', 'Liza', 'Kira', 'Emma', 'Trisha']\n",
    "\n",
    "#сравниваем длины списков. \n",
    "if len(boys) != len(girls):\n",
    "    print('Внимание, кто-то может остаться без пары!')\n",
    "else: \n",
    "    man = sorted (boys) #сортируем списки по алфавиту\n",
    "    woman = sorted (girls)\n",
    "    i = 0\n",
    "    while i < len(man): \n",
    "        t = f\"{man[i]} и {woman[i]}\" \n",
    "        print (t)\n",
    "        i += 1    \n",
    "\n",
    " \n",
    "\n"
   ]
  },
  {
   "cell_type": "code",
   "execution_count": null,
   "metadata": {},
   "outputs": [],
   "source": [
    "#задание 4\n",
    "\n",
    "countries_temperature = [\n",
    "['Thailand', [75.2, 77, 78.8, 73.4, 68, 75.2, 77]],\n",
    "['Germany', [57.2, 55.4, 59, 59, 53.6]],\n",
    "['Russia', [35.6, 37.4, 39.2, 41, 42.8, 39.2, 35.6]],\n",
    "['Poland', [50, 50, 53.6, 57.2, 55.4, 55.4]]\n",
    "]\n",
    "\n",
    "\n",
    "i = 0\n",
    "for countrie in countries_temperature:\n",
    "    #найдем среднюю температуру в фаренгейтах. для этого просуммируем все значения и разделим на длину списка температур\n",
    "    far = sum (countries_temperature[i][1]) / len(countries_temperature[i][1]) \n",
    "    cel = round( (far-32) / 1.8, 2) #переведем полученное значение в цельии и округлим до 2х знаков после запятой\n",
    "    print (countries_temperature[i][0], ' - ', cel)\n",
    "    i += 1\n",
    "     "
   ]
  },
  {
   "cell_type": "code",
   "execution_count": 27,
   "metadata": {
    "scrolled": true
   },
   "outputs": [
    {
     "name": "stdout",
     "output_type": "stream",
     "text": [
      "Среднее количество просмотров на уникального пользователя: 23.25\n"
     ]
    }
   ],
   "source": [
    "#задание 5\n",
    "\n",
    "stream = [\n",
    "    '2018-01-01,user1,3',\n",
    "    '2018-01-07,user1,4',\n",
    "    '2018-03-29,user1,1',\n",
    "    '2018-04-04,user1,13',\n",
    "    '2018-01-05,user2,7',\n",
    "    '2018-06-14,user3,4',\n",
    "    '2018-07-02,user3,10',\n",
    "    '2018-03-21,user4,19',\n",
    "    '2018-03-22,user4,4',\n",
    "    '2018-04-22,user4,8',\n",
    "    '2018-05-03,user4,9',\n",
    "    '2018-05-11,user4,11',\n",
    "] \n",
    "\n",
    "\"\"\"stream = [\n",
    "    '2018-01-01,user100,150',\n",
    "    '2018-01-07,user99,205',\n",
    "    '2018-03-29,user1001,81'\n",
    "]\"\"\"\n",
    "\n",
    "#создадим новый список new,где исходные строки будут представлены в формате списков.\n",
    "\n",
    "new = []\n",
    "i = 0\n",
    "while i < len(stream):\n",
    "    new.append(stream[i].split(','))\n",
    "    i += 1\n",
    "\n",
    "#рассчитываем S-сумму всех просмотров. Для этого нужно просуммировать элементы с индексом 2 во всех списках, переведя их в формат числа\n",
    "\n",
    "s = 0\n",
    "for i in range (0, len(new)):\n",
    "    s = s + int(new[i][2])\n",
    "\n",
    "#извлечем всех уникальных пользователей в отдельный список users. Тогда их количество будет равно длине списка    \n",
    "\n",
    "users = []\n",
    "j = 0\n",
    "while j < len(new):\n",
    "    if new[j][1] in users: pass #исключаем повторения пользователей\n",
    "    else: users.append(new[j][1])\n",
    "    j += 1\n",
    "\n",
    "# рассчитаем среднее количество просмотров и округлим полученное значение до 2 знаков после запятой\n",
    "res = round(s / len(users), 2)\n",
    "\n",
    "print('Среднее количество просмотров на уникального пользователя:', res)"
   ]
  },
  {
   "cell_type": "code",
   "execution_count": 35,
   "metadata": {},
   "outputs": [
    {
     "name": "stdout",
     "output_type": "stream",
     "text": [
      "введите числа через пробел2 2 2 3 4 5 6 7 8 4 2 5 6\n",
      "['2', '4', '5', '6']\n"
     ]
    }
   ],
   "source": [
    "#задание 6\n",
    "\n",
    "x = input('введите числа через пробел')\n",
    "\n",
    "#преобразуем введенные данные в список\n",
    "x_list = x.split(' ')\n",
    "\n",
    "#задаем пустой список duplicates, в который будет собирать только повторяющиеся значения\n",
    "duplicates = []\n",
    "\n",
    "#проверяем повторения в исходном списке, в duplicates вносим значения 1 раз, вне зависимости от количества упоминаний в исходнике\n",
    "for element in x_list:\n",
    "    if element in duplicates: pass\n",
    "    elif x_list.count(element) > 1: duplicates.append (element)\n",
    "\n",
    "print(duplicates)"
   ]
  },
  {
   "cell_type": "code",
   "execution_count": null,
   "metadata": {},
   "outputs": [],
   "source": []
  }
 ],
 "metadata": {
  "kernelspec": {
   "display_name": "Python 3",
   "language": "python",
   "name": "python3"
  },
  "language_info": {
   "codemirror_mode": {
    "name": "ipython",
    "version": 3
   },
   "file_extension": ".py",
   "mimetype": "text/x-python",
   "name": "python",
   "nbconvert_exporter": "python",
   "pygments_lexer": "ipython3",
   "version": "3.8.3"
  }
 },
 "nbformat": 4,
 "nbformat_minor": 4
}
