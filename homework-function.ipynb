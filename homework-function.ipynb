{
 "cells": [
  {
   "cell_type": "code",
   "execution_count": null,
   "metadata": {},
   "outputs": [],
   "source": [
    "documents = [\n",
    " {'type': 'passport', 'number': '2207 876234', 'name': 'Василий Гупкин'},\n",
    " {'type': 'invoice', 'number': '11-2', 'name': 'Геннадий Покемонов'},\n",
    " {'type': 'insurance', 'number': '10006', 'name': 'Аристарх Павлов'}\n",
    "]\n",
    "\n",
    "directories = {\n",
    " '1': ['2207 876234', '11-2'],\n",
    " '2': ['10006'],\n",
    " '3': []\n",
    "}"
   ]
  },
  {
   "cell_type": "code",
   "execution_count": 54,
   "metadata": {},
   "outputs": [
    {
     "name": "stdout",
     "output_type": "stream",
     "text": [
      "введите номер документа10006\n"
     ]
    },
    {
     "data": {
      "text/plain": [
       "'Владелец документа: Аристарх Павлов'"
      ]
     },
     "execution_count": 54,
     "metadata": {},
     "output_type": "execute_result"
    }
   ],
   "source": [
    "def doc_number(documents):\n",
    "    num = input('введите номер документа')\n",
    "    res = 0\n",
    "    for person in documents: \n",
    "        if num == person['number']: res = f\"Владелец документа: {person['name']}\"\n",
    "\n",
    "    if res == 0: res = 'Документ не найден в базе'\n",
    "    return(res)\n",
    "\n",
    "doc_number(documents)"
   ]
  },
  {
   "cell_type": "code",
   "execution_count": 57,
   "metadata": {},
   "outputs": [
    {
     "name": "stdout",
     "output_type": "stream",
     "text": [
      "Введите номер документа:11-2\n"
     ]
    },
    {
     "data": {
      "text/plain": [
       "'Документ хранится на полке: 1'"
      ]
     },
     "execution_count": 57,
     "metadata": {},
     "output_type": "execute_result"
    }
   ],
   "source": [
    "def storage(directories):\n",
    "    num = input('Введите номер документа:')\n",
    "    res = 0\n",
    "    for item in directories.items():\n",
    "        for i in range (0, len(item[1])):\n",
    "            if num == item[1][i]: res = f\"Документ хранится на полке: {item[0]}\"\n",
    "    \n",
    "    if res == 0: res = 'Документ не найден в базе'\n",
    "    \n",
    "    return(res)\n",
    "storage (directories)    "
   ]
  },
  {
   "cell_type": "code",
   "execution_count": 75,
   "metadata": {},
   "outputs": [
    {
     "data": {
      "text/plain": [
       "[\"№': 2207 876234, 'тип': passport, 'владелец': Василий Гупкин, 'полка хранения': 1\",\n",
       " \"№': 11-2, 'тип': invoice, 'владелец': Геннадий Покемонов, 'полка хранения': 1\",\n",
       " \"№': 10006, 'тип': insurance, 'владелец': Аристарх Павлов, 'полка хранения': 2\"]"
      ]
     },
     "execution_count": 75,
     "metadata": {},
     "output_type": "execute_result"
    }
   ],
   "source": [
    "def catalog(documents, directories):\n",
    "    catal = []\n",
    "    for line in documents:\n",
    "        for item in directories.items():\n",
    "            for i in range (0, len(item[1])):\n",
    "                if line['number'] == item[1][i]: sh = item[0]\n",
    "        catal.append(f\"№': {line['number']}, 'тип': {line['type']}, 'владелец': {line['name']}, 'полка хранения': {sh}\")\n",
    "    return (catal)\n",
    "catalog (documents, directories)"
   ]
  },
  {
   "cell_type": "code",
   "execution_count": 9,
   "metadata": {},
   "outputs": [
    {
     "name": "stdout",
     "output_type": "stream",
     "text": [
      "Введите номер полки:2\n"
     ]
    },
    {
     "data": {
      "text/plain": [
       "\"Такая полка уже существует. Текущий перечень полок: ['1', '2', '3']\""
      ]
     },
     "execution_count": 9,
     "metadata": {},
     "output_type": "execute_result"
    }
   ],
   "source": [
    "def shell(directories):\n",
    "    sh = input('Введите номер полки:')\n",
    "    check = 0\n",
    "    if sh in directories.keys(): check = 1\n",
    "    else: directories[sh] = [] \n",
    "          \n",
    "    if check == 1: res = f\"Такая полка уже существует. Текущий перечень полок: {list(directories.keys())}\"\n",
    "    else: res = f\"Полка добавлена. Текущий перечень полок: {list(directories.keys())}\"\n",
    "    return(res)\n",
    "shell(directories)"
   ]
  },
  {
   "cell_type": "code",
   "execution_count": 10,
   "metadata": {},
   "outputs": [
    {
     "name": "stdout",
     "output_type": "stream",
     "text": [
      "Введите номер полки:456\n"
     ]
    },
    {
     "data": {
      "text/plain": [
       "\"Такой полки не существует. Текущий перечень полок: ['1', '2', '3']\""
      ]
     },
     "execution_count": 10,
     "metadata": {},
     "output_type": "execute_result"
    }
   ],
   "source": [
    "def shell_del(directories):\n",
    "    sh = input('Введите номер полки:')\n",
    "    direct = directories.copy()\n",
    "    check = 0\n",
    "    for i in directories.keys():\n",
    "        if sh == i and len(directories[i]) == 0:\n",
    "            del(direct[i])\n",
    "            res =f\"Полка удалена. Текущий перечень полок: {list(direct.keys())}\"\n",
    "            check +=1\n",
    "        elif sh == i and len(directories[i]) != 0:\n",
    "            res =f\"На полке есть документы, удалите их перед удалением полки. Текущий перечень полок: {list(direct.keys())}\"\n",
    "            check +=1\n",
    "    if check == 0: res = f\"Такой полки не существует. Текущий перечень полок: {list(direct.keys())}\"\n",
    "    \n",
    "    return(res)\n",
    "shell_del(directories)"
   ]
  },
  {
   "cell_type": "code",
   "execution_count": 108,
   "metadata": {},
   "outputs": [
    {
     "name": "stdout",
     "output_type": "stream",
     "text": [
      "Введите номер документа:42\n",
      "Введите тип документа:multipassport\n",
      "Введите владельца документа:R2D2\n",
      "Введите полку для хранения:3\n",
      "[\"№': 2207 876234, 'тип': passport, 'владелец': Василий Гупкин, 'полка хранения': 1\", \"№': 11-2, 'тип': invoice, 'владелец': Геннадий Покемонов, 'полка хранения': 3\", \"№': 10006, 'тип': insurance, 'владелец': Аристарх Павлов, 'полка хранения': 3\", \"№': 42, 'тип': multipassport, 'владелец': R2D2, 'полка хранения': 3\"]\n"
     ]
    }
   ],
   "source": [
    "def addition(documents, directories):\n",
    "    num = input('Введите номер документа:')\n",
    "    form = input('Введите тип документа:')\n",
    "    person = input('Введите владельца документа:')\n",
    "    shell = input('Введите полку для хранения:')\n",
    "    \n",
    "    if shell not in directories.keys():\n",
    "        res = 'Такой полки не существует. Добавьте полку командой as'\n",
    "    else: documents.append({'type': form, 'number': num, 'name': person})\n",
    "           \n",
    "    for sh in directories.keys():\n",
    "        if shell == sh: \n",
    "            directories[sh].append(num)\n",
    "            res = 'Документ добавлен. Текущий список документов:'\n",
    "    \n",
    "    return(res)\n",
    "addition(documents, directories)\n",
    "print(catalog(documents, directories))"
   ]
  },
  {
   "cell_type": "code",
   "execution_count": 76,
   "metadata": {},
   "outputs": [
    {
     "name": "stdout",
     "output_type": "stream",
     "text": [
      "Введите номер документа:11-2\n",
      "Документ удален. Текущий список документов:\n",
      "[\"№': 2207 876234, 'тип': passport, 'владелец': Василий Гупкин, 'полка хранения': 1\", \"№': 10006, 'тип': insurance, 'владелец': Аристарх Павлов, 'полка хранения': 2\"]\n"
     ]
    },
    {
     "data": {
      "text/plain": [
       "()"
      ]
     },
     "execution_count": 76,
     "metadata": {},
     "output_type": "execute_result"
    }
   ],
   "source": [
    "def erase(documents, directories):\n",
    "    num = input('Введите номер документа:')\n",
    "    if num not in directories.values():\n",
    "        res = 'Документ не найден в базе. Текущий список документов:'\n",
    "    direct = directories.copy()\n",
    "    docs = documents.copy()\n",
    "    for i in range (0, len(documents)): \n",
    "        if num == documents[i]['number']: del(docs[i])\n",
    "    for item in directories.items():\n",
    "        for line in direct.items():\n",
    "            for i in range (0, len(item[1])):\n",
    "                if num == item[1][i]: \n",
    "                    del(line[1][i])\n",
    "                    res = 'Документ удален. Текущий список документов:'\n",
    "    print (res)\n",
    "    print(catalog(docs, direct))\n",
    "    return()\n",
    "\n",
    "erase(documents, directories)\n"
   ]
  },
  {
   "cell_type": "code",
   "execution_count": 136,
   "metadata": {},
   "outputs": [
    {
     "name": "stdout",
     "output_type": "stream",
     "text": [
      "Введите номер документа:11-2\n",
      "Введите полку для хранения:3\n",
      "Документ не найден в базе. Текущий список документов:\n",
      "[\"№': 2207 876234, 'тип': passport, 'владелец': Василий Гупкин, 'полка хранения': 1\", \"№': 11-2, 'тип': invoice, 'владелец': Геннадий Покемонов, 'полка хранения': 3\", \"№': 10006, 'тип': insurance, 'владелец': Аристарх Павлов, 'полка хранения': 2\"]\n"
     ]
    }
   ],
   "source": [
    "def replacement(directories):\n",
    "    num = input('Введите номер документа:')\n",
    "    shell = input('Введите полку для хранения:')\n",
    "    check = 0\n",
    "    check_1 = 0\n",
    "    if shell not in directories.keys():\n",
    "        res = 'Такой полки не существует. Текущий перечень полок:'\n",
    "    elif num not in directories.values():\n",
    "        res = 'Документ не найден в базе. Текущий список документов:'\n",
    "    else: res = 'Документ перемещен. Текущий список документов:'\n",
    "    for item in directories.items():\n",
    "        for i in range (0, len(item[1])):\n",
    "            if num == item[1][i]: \n",
    "                 del(item[1][i])\n",
    "        if shell == item[0]:\n",
    "            item[1].append(num)\n",
    "                \n",
    "    print(res)\n",
    "    return(res)\n",
    "\n",
    "replacement(directories)\n",
    "print(catalog(documents, directories))"
   ]
  },
  {
   "cell_type": "code",
   "execution_count": null,
   "metadata": {},
   "outputs": [],
   "source": [
    "def main():\n",
    "    while True:\n",
    "        user_input = input('Введите команду')\n",
    "        if user_input == 'p':\n",
    "            print(doc_number(documents))\n",
    "        elif user_input == 's':\n",
    "            print(storage (directories))\n",
    "        elif user_input == 'l':\n",
    "            print(catalog(documents, directories))\n",
    "        elif user_input == 'ads':\n",
    "            print(shell(directories))\n",
    "        elif user_input == 'ds':\n",
    "            print(shell_del(directories))\n",
    "        elif user_input == 'ad':\n",
    "            print(addition(documents, directories))\n",
    "            print(data(documents, directories))\n",
    "        elif user_input == 'd':\n",
    "            print(erase(documents, directories))\n",
    "        elif user_input == 'm':\n",
    "            print(replacement(directories))\n",
    "            print(catalog (documents, directories))\n",
    "        elif user_input == 'q':\n",
    "            print('До свидания!')\n",
    "            break\n",
    "main()"
   ]
  },
  {
   "cell_type": "code",
   "execution_count": null,
   "metadata": {},
   "outputs": [],
   "source": []
  }
 ],
 "metadata": {
  "kernelspec": {
   "display_name": "Python 3",
   "language": "python",
   "name": "python3"
  },
  "language_info": {
   "codemirror_mode": {
    "name": "ipython",
    "version": 3
   },
   "file_extension": ".py",
   "mimetype": "text/x-python",
   "name": "python",
   "nbconvert_exporter": "python",
   "pygments_lexer": "ipython3",
   "version": "3.8.3"
  }
 },
 "nbformat": 4,
 "nbformat_minor": 4
}
