{
 "cells": [
  {
   "cell_type": "code",
   "execution_count": 1,
   "metadata": {},
   "outputs": [],
   "source": [
    "import re"
   ]
  },
  {
   "cell_type": "code",
   "execution_count": 53,
   "metadata": {
    "scrolled": true
   },
   "outputs": [
    {
     "name": "stdout",
     "output_type": "stream",
     "text": [
      "введите госномерА22А22\n",
      "Номер не валиден\n"
     ]
    }
   ],
   "source": [
    "car_id = input(\"введите госномер \")\n",
    "\n",
    "regex_id = r'([АВЕКМНОРСТУХ]{1})(\\d{3})([АВЕКМНОРСТУХ]{2})(\\d{2,3})'\n",
    "\n",
    "if re.match(regex_id, car_id):\n",
    "        id_ = re.findall(r'\\w{1}\\d{3}\\w{2}', car_id)\n",
    "        reg = re.findall(r'\\d{2,3}$', car_id)\n",
    "        print(f\"Номер{id_} валиден. Регион:{reg}\")\n",
    "else:\n",
    "         print('Номер не валиден') \n",
    "\n",
    "\n",
    "   "
   ]
  },
  {
   "cell_type": "code",
   "execution_count": 70,
   "metadata": {},
   "outputs": [
    {
     "name": "stdout",
     "output_type": "stream",
     "text": [
      "Напишите функцию, которая будет удалять все последовательные повторы слов из заданной строки при помощи регулярных выражений\n"
     ]
    }
   ],
   "source": [
    "some_string = 'Напишите функцию функцию, которая будет будет будет будет удалять все все все все последовательные повторы слов из из из из заданной строки строки при помощи регулярных выражений'\n",
    "\n",
    "new_string = re.sub(r'\\b([^\\W\\d]+)(\\s\\1)+\\b', r'\\1', some_string)\n",
    "\n",
    "print(new_string)"
   ]
  },
  {
   "cell_type": "code",
   "execution_count": 81,
   "metadata": {},
   "outputs": [
    {
     "name": "stdout",
     "output_type": "stream",
     "text": [
      "введите строку Near Field Communication\n",
      "NFC\n"
     ]
    }
   ],
   "source": [
    "some_words = input(\"введите строку \")\n",
    "\n",
    "result = re.findall(r'\\b\\w{1}', some_words)\n",
    "\n",
    "res = ''\n",
    "for item in result:\n",
    "    res += item.capitalize()\n",
    "    \n",
    "print(res)\n",
    "      "
   ]
  },
  {
   "cell_type": "code",
   "execution_count": 103,
   "metadata": {},
   "outputs": [
    {
     "name": "stdout",
     "output_type": "stream",
     "text": [
      "{'@gmail.com': 2, '@test.in': 1, '@ya.ru': 2, '@mail.ru': 1}\n"
     ]
    }
   ],
   "source": [
    "emails = ['test@gmail.com', 'xyz@test.in', 'test@ya.ru', 'xyz@mail.ru', 'xyz@ya.ru', 'xyz@gmail.com']\n",
    "\n",
    "res = {}\n",
    "\n",
    "for item in emails:\n",
    "    domen = re.findall(r'@\\w+\\.\\w+', item)\n",
    "    if domen[0] not in res:\n",
    "        res[domen[0]] = 1\n",
    "    else: res[domen[0]] += 1\n",
    "\n",
    "print(res)"
   ]
  },
  {
   "cell_type": "code",
   "execution_count": 76,
   "metadata": {},
   "outputs": [
    {
     "name": "stdout",
     "output_type": "stream",
     "text": [
      "Слов на гласные буквы: 9\n",
      "Слов на согласные буквы: 21\n"
     ]
    }
   ],
   "source": [
    "some_text = 'Эталонной реализацией Python является интерпретатор CPython, поддерживающий большинство активно используемых платформ. Он распространяется под свободной лицензией Python Software Foundation License, позволяющей использовать его без ограничений в любых приложениях, включая проприетарные.'\n",
    "\n",
    "\n",
    "num_vowels = len(re.findall(r'\\b[aeiouAEIOUауоыиэяюёеАОУИЭЯЮЁЕ]\\w+', some_text))\n",
    "num_cons = len(re.findall(r'\\b[^aeiouAEIOUауоыиэяюёеАОУИЭЯЮЁЕ,. ]\\w*', some_text))\n",
    "\n",
    "print(f\"Слов на гласные буквы: {num_vowels}\")\n",
    "\n",
    "print(f\"Слов на согласные буквы: {num_cons}\")\n"
   ]
  },
  {
   "cell_type": "code",
   "execution_count": 74,
   "metadata": {},
   "outputs": [
    {
     "name": "stdout",
     "output_type": "stream",
     "text": [
      "введите телефонный номер8(955)555-55-55\n",
      "+7-955-555-55-55\n"
     ]
    }
   ],
   "source": [
    "phone = input(\"введите телефонный номер\")\n",
    "\n",
    "number = re.sub(r'\\D*', r'', phone)\n",
    "first_num = re.findall(r'^\\d{1}', number)[0]\n",
    "\n",
    "if int(first_num) == 7 or 8 and len(number) == 11:\n",
    "    print(f\"+7-{number[1:4]}-{number[4:7]}-{number[7:9]}-{number[9:11]}\")\n",
    "    \n",
    "else: print('Номер не валиден')\n",
    "  \n"
   ]
  },
  {
   "cell_type": "code",
   "execution_count": null,
   "metadata": {},
   "outputs": [],
   "source": []
  }
 ],
 "metadata": {
  "kernelspec": {
   "display_name": "Python 3",
   "language": "python",
   "name": "python3"
  },
  "language_info": {
   "codemirror_mode": {
    "name": "ipython",
    "version": 3
   },
   "file_extension": ".py",
   "mimetype": "text/x-python",
   "name": "python",
   "nbconvert_exporter": "python",
   "pygments_lexer": "ipython3",
   "version": "3.8.3"
  }
 },
 "nbformat": 4,
 "nbformat_minor": 4
}
