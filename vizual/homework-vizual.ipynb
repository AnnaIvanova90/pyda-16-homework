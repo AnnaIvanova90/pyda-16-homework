{
 "cells": [
  {
   "cell_type": "code",
   "execution_count": 100,
   "metadata": {},
   "outputs": [],
   "source": [
    "import matplotlib.pyplot as plt\n",
    "import pandas as pd\n",
    "import seaborn as sns\n",
    "from pylab import rcParams\n",
    "rcParams['figure.figsize'] = 13,6"
   ]
  },
  {
   "cell_type": "code",
   "execution_count": 120,
   "metadata": {},
   "outputs": [
    {
     "name": "stdout",
     "output_type": "stream",
     "text": [
      "<class 'pandas.core.frame.DataFrame'>\n",
      "RangeIndex: 1182 entries, 0 to 1181\n",
      "Data columns (total 19 columns):\n",
      " #   Column                                                                              Non-Null Count  Dtype  \n",
      "---  ------                                                                              --------------  -----  \n",
      " 0   ID                                                                                  1182 non-null   object \n",
      " 1   Region of residence                                                                 1182 non-null   object \n",
      " 2   Age of Subject                                                                      1182 non-null   int64  \n",
      " 3   Time spent on Online Class                                                          1182 non-null   float64\n",
      " 4   Rating of Online Class experience                                                   1158 non-null   object \n",
      " 5   Medium for online class                                                             1131 non-null   object \n",
      " 6   Time spent on self study                                                            1182 non-null   float64\n",
      " 7   Time spent on fitness                                                               1182 non-null   float64\n",
      " 8   Time spent on sleep                                                                 1182 non-null   float64\n",
      " 9   Time spent on social media                                                          1182 non-null   float64\n",
      " 10  Prefered social media platform                                                      1182 non-null   object \n",
      " 11  Time spent on TV                                                                    1182 non-null   object \n",
      " 12  Number of meals per day                                                             1182 non-null   int64  \n",
      " 13  Change in your weight                                                               1182 non-null   object \n",
      " 14  Health issue during lockdown                                                        1182 non-null   object \n",
      " 15  Stress busters                                                                      1182 non-null   object \n",
      " 16  Time utilized                                                                       1182 non-null   object \n",
      " 17  Do you find yourself more connected with your family, close friends , relatives  ?  1182 non-null   object \n",
      " 18  What you miss the most                                                              1182 non-null   object \n",
      "dtypes: float64(5), int64(2), object(12)\n",
      "memory usage: 175.6+ KB\n"
     ]
    }
   ],
   "source": [
    "df =  pd.read_csv('COVID-19 Survey Student Responses.csv')\n",
    "df.info()"
   ]
  },
  {
   "cell_type": "code",
   "execution_count": 121,
   "metadata": {
    "scrolled": false
   },
   "outputs": [
    {
     "data": {
      "text/html": [
       "<div>\n",
       "<style scoped>\n",
       "    .dataframe tbody tr th:only-of-type {\n",
       "        vertical-align: middle;\n",
       "    }\n",
       "\n",
       "    .dataframe tbody tr th {\n",
       "        vertical-align: top;\n",
       "    }\n",
       "\n",
       "    .dataframe thead th {\n",
       "        text-align: right;\n",
       "    }\n",
       "</style>\n",
       "<table border=\"1\" class=\"dataframe\">\n",
       "  <thead>\n",
       "    <tr style=\"text-align: right;\">\n",
       "      <th></th>\n",
       "      <th>ID</th>\n",
       "      <th>Region of residence</th>\n",
       "      <th>Age of Subject</th>\n",
       "      <th>Time spent on Online Class</th>\n",
       "      <th>Rating of Online Class experience</th>\n",
       "      <th>Medium for online class</th>\n",
       "      <th>Time spent on self study</th>\n",
       "      <th>Time spent on fitness</th>\n",
       "      <th>Time spent on sleep</th>\n",
       "      <th>Time spent on social media</th>\n",
       "      <th>Prefered social media platform</th>\n",
       "      <th>Time spent on TV</th>\n",
       "      <th>Number of meals per day</th>\n",
       "      <th>Change in your weight</th>\n",
       "      <th>Health issue during lockdown</th>\n",
       "      <th>Stress busters</th>\n",
       "      <th>Time utilized</th>\n",
       "      <th>Do you find yourself more connected with your family, close friends , relatives  ?</th>\n",
       "      <th>What you miss the most</th>\n",
       "    </tr>\n",
       "  </thead>\n",
       "  <tbody>\n",
       "    <tr>\n",
       "      <th>0</th>\n",
       "      <td>R1</td>\n",
       "      <td>Delhi-NCR</td>\n",
       "      <td>21</td>\n",
       "      <td>2.0</td>\n",
       "      <td>Good</td>\n",
       "      <td>Laptop/Desktop</td>\n",
       "      <td>4.0</td>\n",
       "      <td>0.0</td>\n",
       "      <td>7.0</td>\n",
       "      <td>3.0</td>\n",
       "      <td>Linkedin</td>\n",
       "      <td>1</td>\n",
       "      <td>4</td>\n",
       "      <td>Increased</td>\n",
       "      <td>NO</td>\n",
       "      <td>Cooking</td>\n",
       "      <td>YES</td>\n",
       "      <td>YES</td>\n",
       "      <td>School/college</td>\n",
       "    </tr>\n",
       "    <tr>\n",
       "      <th>1</th>\n",
       "      <td>R2</td>\n",
       "      <td>Delhi-NCR</td>\n",
       "      <td>21</td>\n",
       "      <td>0.0</td>\n",
       "      <td>Excellent</td>\n",
       "      <td>Smartphone</td>\n",
       "      <td>0.0</td>\n",
       "      <td>2.0</td>\n",
       "      <td>10.0</td>\n",
       "      <td>3.0</td>\n",
       "      <td>Youtube</td>\n",
       "      <td>0</td>\n",
       "      <td>3</td>\n",
       "      <td>Decreased</td>\n",
       "      <td>NO</td>\n",
       "      <td>Scrolling through social media</td>\n",
       "      <td>YES</td>\n",
       "      <td>NO</td>\n",
       "      <td>Roaming around freely</td>\n",
       "    </tr>\n",
       "    <tr>\n",
       "      <th>2</th>\n",
       "      <td>R3</td>\n",
       "      <td>Delhi-NCR</td>\n",
       "      <td>20</td>\n",
       "      <td>7.0</td>\n",
       "      <td>Very poor</td>\n",
       "      <td>Laptop/Desktop</td>\n",
       "      <td>3.0</td>\n",
       "      <td>0.0</td>\n",
       "      <td>6.0</td>\n",
       "      <td>2.0</td>\n",
       "      <td>Linkedin</td>\n",
       "      <td>0</td>\n",
       "      <td>3</td>\n",
       "      <td>Remain Constant</td>\n",
       "      <td>NO</td>\n",
       "      <td>Listening to music</td>\n",
       "      <td>NO</td>\n",
       "      <td>YES</td>\n",
       "      <td>Travelling</td>\n",
       "    </tr>\n",
       "    <tr>\n",
       "      <th>3</th>\n",
       "      <td>R4</td>\n",
       "      <td>Delhi-NCR</td>\n",
       "      <td>20</td>\n",
       "      <td>3.0</td>\n",
       "      <td>Very poor</td>\n",
       "      <td>Smartphone</td>\n",
       "      <td>2.0</td>\n",
       "      <td>1.0</td>\n",
       "      <td>6.0</td>\n",
       "      <td>5.0</td>\n",
       "      <td>Instagram</td>\n",
       "      <td>0</td>\n",
       "      <td>3</td>\n",
       "      <td>Decreased</td>\n",
       "      <td>NO</td>\n",
       "      <td>Watching web series</td>\n",
       "      <td>NO</td>\n",
       "      <td>NO</td>\n",
       "      <td>Friends , relatives</td>\n",
       "    </tr>\n",
       "    <tr>\n",
       "      <th>4</th>\n",
       "      <td>R5</td>\n",
       "      <td>Delhi-NCR</td>\n",
       "      <td>21</td>\n",
       "      <td>3.0</td>\n",
       "      <td>Good</td>\n",
       "      <td>Laptop/Desktop</td>\n",
       "      <td>3.0</td>\n",
       "      <td>1.0</td>\n",
       "      <td>8.0</td>\n",
       "      <td>3.0</td>\n",
       "      <td>Instagram</td>\n",
       "      <td>1</td>\n",
       "      <td>4</td>\n",
       "      <td>Remain Constant</td>\n",
       "      <td>NO</td>\n",
       "      <td>Social Media</td>\n",
       "      <td>NO</td>\n",
       "      <td>NO</td>\n",
       "      <td>Travelling</td>\n",
       "    </tr>\n",
       "    <tr>\n",
       "      <th>5</th>\n",
       "      <td>R6</td>\n",
       "      <td>Delhi-NCR</td>\n",
       "      <td>21</td>\n",
       "      <td>0.0</td>\n",
       "      <td>Very poor</td>\n",
       "      <td>Smartphone</td>\n",
       "      <td>6.0</td>\n",
       "      <td>0.0</td>\n",
       "      <td>5.0</td>\n",
       "      <td>1.0</td>\n",
       "      <td>Youtube</td>\n",
       "      <td>0</td>\n",
       "      <td>1</td>\n",
       "      <td>Decreased</td>\n",
       "      <td>YES</td>\n",
       "      <td>Coding and studying for exams</td>\n",
       "      <td>NO</td>\n",
       "      <td>YES</td>\n",
       "      <td>School/college</td>\n",
       "    </tr>\n",
       "    <tr>\n",
       "      <th>6</th>\n",
       "      <td>R7</td>\n",
       "      <td>Delhi-NCR</td>\n",
       "      <td>19</td>\n",
       "      <td>2.0</td>\n",
       "      <td>Very poor</td>\n",
       "      <td>Smartphone</td>\n",
       "      <td>2.0</td>\n",
       "      <td>1.0</td>\n",
       "      <td>5.0</td>\n",
       "      <td>4.0</td>\n",
       "      <td>Instagram</td>\n",
       "      <td>0</td>\n",
       "      <td>3</td>\n",
       "      <td>Increased</td>\n",
       "      <td>NO</td>\n",
       "      <td>Watching web series</td>\n",
       "      <td>NO</td>\n",
       "      <td>YES</td>\n",
       "      <td>Friends , relatives</td>\n",
       "    </tr>\n",
       "    <tr>\n",
       "      <th>7</th>\n",
       "      <td>R8</td>\n",
       "      <td>Outside Delhi-NCR</td>\n",
       "      <td>19</td>\n",
       "      <td>2.0</td>\n",
       "      <td>Very poor</td>\n",
       "      <td>Tablet</td>\n",
       "      <td>1.0</td>\n",
       "      <td>1.0</td>\n",
       "      <td>10.0</td>\n",
       "      <td>5.0</td>\n",
       "      <td>Instagram</td>\n",
       "      <td>0</td>\n",
       "      <td>3</td>\n",
       "      <td>Increased</td>\n",
       "      <td>YES</td>\n",
       "      <td>Scrolling through social media</td>\n",
       "      <td>NO</td>\n",
       "      <td>YES</td>\n",
       "      <td>Eating outside</td>\n",
       "    </tr>\n",
       "    <tr>\n",
       "      <th>8</th>\n",
       "      <td>R9</td>\n",
       "      <td>Delhi-NCR</td>\n",
       "      <td>21</td>\n",
       "      <td>3.0</td>\n",
       "      <td>Very poor</td>\n",
       "      <td>Laptop/Desktop</td>\n",
       "      <td>4.0</td>\n",
       "      <td>1.0</td>\n",
       "      <td>8.0</td>\n",
       "      <td>2.0</td>\n",
       "      <td>Whatsapp</td>\n",
       "      <td>1</td>\n",
       "      <td>3</td>\n",
       "      <td>Increased</td>\n",
       "      <td>NO</td>\n",
       "      <td>Online surfing</td>\n",
       "      <td>NO</td>\n",
       "      <td>NO</td>\n",
       "      <td>Friends , relatives</td>\n",
       "    </tr>\n",
       "    <tr>\n",
       "      <th>9</th>\n",
       "      <td>R10</td>\n",
       "      <td>Outside Delhi-NCR</td>\n",
       "      <td>20</td>\n",
       "      <td>0.0</td>\n",
       "      <td>Very poor</td>\n",
       "      <td>Laptop/Desktop</td>\n",
       "      <td>1.0</td>\n",
       "      <td>0.5</td>\n",
       "      <td>8.0</td>\n",
       "      <td>5.0</td>\n",
       "      <td>Instagram</td>\n",
       "      <td>3</td>\n",
       "      <td>3</td>\n",
       "      <td>Decreased</td>\n",
       "      <td>YES</td>\n",
       "      <td>live stream watching</td>\n",
       "      <td>NO</td>\n",
       "      <td>NO</td>\n",
       "      <td>School/college</td>\n",
       "    </tr>\n",
       "    <tr>\n",
       "      <th>10</th>\n",
       "      <td>R11</td>\n",
       "      <td>Delhi-NCR</td>\n",
       "      <td>21</td>\n",
       "      <td>3.0</td>\n",
       "      <td>Good</td>\n",
       "      <td>Laptop/Desktop</td>\n",
       "      <td>3.0</td>\n",
       "      <td>1.0</td>\n",
       "      <td>8.0</td>\n",
       "      <td>3.0</td>\n",
       "      <td>Instagram</td>\n",
       "      <td>1</td>\n",
       "      <td>4</td>\n",
       "      <td>Remain Constant</td>\n",
       "      <td>NO</td>\n",
       "      <td>Social Media</td>\n",
       "      <td>NO</td>\n",
       "      <td>NO</td>\n",
       "      <td>Colleagues</td>\n",
       "    </tr>\n",
       "    <tr>\n",
       "      <th>11</th>\n",
       "      <td>R12</td>\n",
       "      <td>Delhi-NCR</td>\n",
       "      <td>21</td>\n",
       "      <td>1.0</td>\n",
       "      <td>Very poor</td>\n",
       "      <td>Laptop/Desktop</td>\n",
       "      <td>0.0</td>\n",
       "      <td>1.0</td>\n",
       "      <td>7.0</td>\n",
       "      <td>3.0</td>\n",
       "      <td>Instagram</td>\n",
       "      <td>1</td>\n",
       "      <td>2</td>\n",
       "      <td>Increased</td>\n",
       "      <td>YES</td>\n",
       "      <td>Watching web series</td>\n",
       "      <td>YES</td>\n",
       "      <td>YES</td>\n",
       "      <td>Eating outside</td>\n",
       "    </tr>\n",
       "    <tr>\n",
       "      <th>12</th>\n",
       "      <td>R13</td>\n",
       "      <td>Delhi-NCR</td>\n",
       "      <td>21</td>\n",
       "      <td>3.0</td>\n",
       "      <td>Average</td>\n",
       "      <td>Laptop/Desktop</td>\n",
       "      <td>0.0</td>\n",
       "      <td>0.0</td>\n",
       "      <td>8.0</td>\n",
       "      <td>3.0</td>\n",
       "      <td>Instagram</td>\n",
       "      <td>0</td>\n",
       "      <td>3</td>\n",
       "      <td>Increased</td>\n",
       "      <td>YES</td>\n",
       "      <td>Listening to music</td>\n",
       "      <td>NO</td>\n",
       "      <td>NO</td>\n",
       "      <td>School/college</td>\n",
       "    </tr>\n",
       "    <tr>\n",
       "      <th>13</th>\n",
       "      <td>R14</td>\n",
       "      <td>Outside Delhi-NCR</td>\n",
       "      <td>22</td>\n",
       "      <td>1.0</td>\n",
       "      <td>Good</td>\n",
       "      <td>Laptop/Desktop</td>\n",
       "      <td>2.0</td>\n",
       "      <td>0.0</td>\n",
       "      <td>7.0</td>\n",
       "      <td>0.0</td>\n",
       "      <td>None</td>\n",
       "      <td>0.5</td>\n",
       "      <td>2</td>\n",
       "      <td>Increased</td>\n",
       "      <td>NO</td>\n",
       "      <td>Reading</td>\n",
       "      <td>YES</td>\n",
       "      <td>YES</td>\n",
       "      <td>Travelling</td>\n",
       "    </tr>\n",
       "    <tr>\n",
       "      <th>14</th>\n",
       "      <td>R15</td>\n",
       "      <td>Delhi-NCR</td>\n",
       "      <td>20</td>\n",
       "      <td>5.0</td>\n",
       "      <td>Very poor</td>\n",
       "      <td>Laptop/Desktop</td>\n",
       "      <td>1.0</td>\n",
       "      <td>0.0</td>\n",
       "      <td>8.0</td>\n",
       "      <td>3.0</td>\n",
       "      <td>Instagram</td>\n",
       "      <td>0</td>\n",
       "      <td>3</td>\n",
       "      <td>Remain Constant</td>\n",
       "      <td>NO</td>\n",
       "      <td>Scrolling through social media</td>\n",
       "      <td>NO</td>\n",
       "      <td>NO</td>\n",
       "      <td>Eating outside</td>\n",
       "    </tr>\n",
       "    <tr>\n",
       "      <th>15</th>\n",
       "      <td>R16</td>\n",
       "      <td>Delhi-NCR</td>\n",
       "      <td>22</td>\n",
       "      <td>3.0</td>\n",
       "      <td>Average</td>\n",
       "      <td>Smartphone</td>\n",
       "      <td>3.0</td>\n",
       "      <td>1.0</td>\n",
       "      <td>6.0</td>\n",
       "      <td>2.0</td>\n",
       "      <td>Instagram</td>\n",
       "      <td>1</td>\n",
       "      <td>3</td>\n",
       "      <td>Increased</td>\n",
       "      <td>NO</td>\n",
       "      <td>Online gaming</td>\n",
       "      <td>YES</td>\n",
       "      <td>YES</td>\n",
       "      <td>Eating outside</td>\n",
       "    </tr>\n",
       "    <tr>\n",
       "      <th>16</th>\n",
       "      <td>R17</td>\n",
       "      <td>Outside Delhi-NCR</td>\n",
       "      <td>20</td>\n",
       "      <td>0.0</td>\n",
       "      <td>Good</td>\n",
       "      <td>Smartphone</td>\n",
       "      <td>0.0</td>\n",
       "      <td>0.0</td>\n",
       "      <td>8.0</td>\n",
       "      <td>2.0</td>\n",
       "      <td>Reddit</td>\n",
       "      <td>1</td>\n",
       "      <td>3</td>\n",
       "      <td>Increased</td>\n",
       "      <td>NO</td>\n",
       "      <td>Online gaming</td>\n",
       "      <td>NO</td>\n",
       "      <td>YES</td>\n",
       "      <td>Colleagues</td>\n",
       "    </tr>\n",
       "    <tr>\n",
       "      <th>17</th>\n",
       "      <td>R18</td>\n",
       "      <td>Delhi-NCR</td>\n",
       "      <td>20</td>\n",
       "      <td>1.0</td>\n",
       "      <td>Very poor</td>\n",
       "      <td>Smartphone</td>\n",
       "      <td>2.0</td>\n",
       "      <td>1.0</td>\n",
       "      <td>8.0</td>\n",
       "      <td>1.0</td>\n",
       "      <td>Youtube</td>\n",
       "      <td>0</td>\n",
       "      <td>3</td>\n",
       "      <td>Remain Constant</td>\n",
       "      <td>NO</td>\n",
       "      <td>Listening to music</td>\n",
       "      <td>NO</td>\n",
       "      <td>NO</td>\n",
       "      <td>Roaming around freely</td>\n",
       "    </tr>\n",
       "    <tr>\n",
       "      <th>18</th>\n",
       "      <td>R19</td>\n",
       "      <td>Delhi-NCR</td>\n",
       "      <td>21</td>\n",
       "      <td>0.0</td>\n",
       "      <td>Very poor</td>\n",
       "      <td>Laptop/Desktop</td>\n",
       "      <td>4.0</td>\n",
       "      <td>0.0</td>\n",
       "      <td>7.0</td>\n",
       "      <td>7.0</td>\n",
       "      <td>Youtube</td>\n",
       "      <td>n</td>\n",
       "      <td>2</td>\n",
       "      <td>Remain Constant</td>\n",
       "      <td>NO</td>\n",
       "      <td>Reading books</td>\n",
       "      <td>NO</td>\n",
       "      <td>NO</td>\n",
       "      <td>Friends , relatives</td>\n",
       "    </tr>\n",
       "    <tr>\n",
       "      <th>19</th>\n",
       "      <td>R20</td>\n",
       "      <td>Delhi-NCR</td>\n",
       "      <td>22</td>\n",
       "      <td>5.0</td>\n",
       "      <td>Very poor</td>\n",
       "      <td>Smartphone</td>\n",
       "      <td>2.0</td>\n",
       "      <td>1.0</td>\n",
       "      <td>8.0</td>\n",
       "      <td>4.0</td>\n",
       "      <td>Instagram</td>\n",
       "      <td>0</td>\n",
       "      <td>3</td>\n",
       "      <td>Increased</td>\n",
       "      <td>NO</td>\n",
       "      <td>Dancing</td>\n",
       "      <td>YES</td>\n",
       "      <td>YES</td>\n",
       "      <td>Friends , relatives</td>\n",
       "    </tr>\n",
       "  </tbody>\n",
       "</table>\n",
       "</div>"
      ],
      "text/plain": [
       "     ID Region of residence  Age of Subject  Time spent on Online Class  \\\n",
       "0    R1           Delhi-NCR              21                         2.0   \n",
       "1    R2           Delhi-NCR              21                         0.0   \n",
       "2    R3           Delhi-NCR              20                         7.0   \n",
       "3    R4           Delhi-NCR              20                         3.0   \n",
       "4    R5           Delhi-NCR              21                         3.0   \n",
       "5    R6           Delhi-NCR              21                         0.0   \n",
       "6    R7           Delhi-NCR              19                         2.0   \n",
       "7    R8   Outside Delhi-NCR              19                         2.0   \n",
       "8    R9           Delhi-NCR              21                         3.0   \n",
       "9   R10   Outside Delhi-NCR              20                         0.0   \n",
       "10  R11           Delhi-NCR              21                         3.0   \n",
       "11  R12           Delhi-NCR              21                         1.0   \n",
       "12  R13           Delhi-NCR              21                         3.0   \n",
       "13  R14   Outside Delhi-NCR              22                         1.0   \n",
       "14  R15           Delhi-NCR              20                         5.0   \n",
       "15  R16           Delhi-NCR              22                         3.0   \n",
       "16  R17   Outside Delhi-NCR              20                         0.0   \n",
       "17  R18           Delhi-NCR              20                         1.0   \n",
       "18  R19           Delhi-NCR              21                         0.0   \n",
       "19  R20           Delhi-NCR              22                         5.0   \n",
       "\n",
       "   Rating of Online Class experience Medium for online class  \\\n",
       "0                               Good          Laptop/Desktop   \n",
       "1                          Excellent              Smartphone   \n",
       "2                          Very poor          Laptop/Desktop   \n",
       "3                          Very poor              Smartphone   \n",
       "4                               Good          Laptop/Desktop   \n",
       "5                          Very poor              Smartphone   \n",
       "6                          Very poor              Smartphone   \n",
       "7                          Very poor                  Tablet   \n",
       "8                          Very poor          Laptop/Desktop   \n",
       "9                          Very poor          Laptop/Desktop   \n",
       "10                              Good          Laptop/Desktop   \n",
       "11                         Very poor          Laptop/Desktop   \n",
       "12                           Average          Laptop/Desktop   \n",
       "13                              Good          Laptop/Desktop   \n",
       "14                         Very poor          Laptop/Desktop   \n",
       "15                           Average              Smartphone   \n",
       "16                              Good              Smartphone   \n",
       "17                         Very poor              Smartphone   \n",
       "18                         Very poor          Laptop/Desktop   \n",
       "19                         Very poor              Smartphone   \n",
       "\n",
       "    Time spent on self study  Time spent on fitness  Time spent on sleep  \\\n",
       "0                        4.0                    0.0                  7.0   \n",
       "1                        0.0                    2.0                 10.0   \n",
       "2                        3.0                    0.0                  6.0   \n",
       "3                        2.0                    1.0                  6.0   \n",
       "4                        3.0                    1.0                  8.0   \n",
       "5                        6.0                    0.0                  5.0   \n",
       "6                        2.0                    1.0                  5.0   \n",
       "7                        1.0                    1.0                 10.0   \n",
       "8                        4.0                    1.0                  8.0   \n",
       "9                        1.0                    0.5                  8.0   \n",
       "10                       3.0                    1.0                  8.0   \n",
       "11                       0.0                    1.0                  7.0   \n",
       "12                       0.0                    0.0                  8.0   \n",
       "13                       2.0                    0.0                  7.0   \n",
       "14                       1.0                    0.0                  8.0   \n",
       "15                       3.0                    1.0                  6.0   \n",
       "16                       0.0                    0.0                  8.0   \n",
       "17                       2.0                    1.0                  8.0   \n",
       "18                       4.0                    0.0                  7.0   \n",
       "19                       2.0                    1.0                  8.0   \n",
       "\n",
       "    Time spent on social media Prefered social media platform  \\\n",
       "0                          3.0                       Linkedin   \n",
       "1                          3.0                        Youtube   \n",
       "2                          2.0                       Linkedin   \n",
       "3                          5.0                      Instagram   \n",
       "4                          3.0                      Instagram   \n",
       "5                          1.0                        Youtube   \n",
       "6                          4.0                      Instagram   \n",
       "7                          5.0                      Instagram   \n",
       "8                          2.0                       Whatsapp   \n",
       "9                          5.0                      Instagram   \n",
       "10                         3.0                      Instagram   \n",
       "11                         3.0                      Instagram   \n",
       "12                         3.0                      Instagram   \n",
       "13                         0.0                           None   \n",
       "14                         3.0                      Instagram   \n",
       "15                         2.0                      Instagram   \n",
       "16                         2.0                         Reddit   \n",
       "17                         1.0                        Youtube   \n",
       "18                         7.0                        Youtube   \n",
       "19                         4.0                      Instagram   \n",
       "\n",
       "   Time spent on TV  Number of meals per day Change in your weight  \\\n",
       "0                 1                        4             Increased   \n",
       "1                 0                        3             Decreased   \n",
       "2                 0                        3       Remain Constant   \n",
       "3                 0                        3             Decreased   \n",
       "4                 1                        4       Remain Constant   \n",
       "5                 0                        1             Decreased   \n",
       "6                 0                        3             Increased   \n",
       "7                 0                        3             Increased   \n",
       "8                 1                        3             Increased   \n",
       "9                 3                        3             Decreased   \n",
       "10                1                        4       Remain Constant   \n",
       "11                1                        2             Increased   \n",
       "12                0                        3             Increased   \n",
       "13              0.5                        2             Increased   \n",
       "14                0                        3       Remain Constant   \n",
       "15                1                        3             Increased   \n",
       "16                1                        3             Increased   \n",
       "17                0                        3       Remain Constant   \n",
       "18                n                        2       Remain Constant   \n",
       "19                0                        3             Increased   \n",
       "\n",
       "   Health issue during lockdown                  Stress busters Time utilized  \\\n",
       "0                            NO                         Cooking           YES   \n",
       "1                            NO  Scrolling through social media           YES   \n",
       "2                            NO              Listening to music            NO   \n",
       "3                            NO             Watching web series            NO   \n",
       "4                            NO                    Social Media            NO   \n",
       "5                           YES   Coding and studying for exams            NO   \n",
       "6                            NO             Watching web series            NO   \n",
       "7                           YES  Scrolling through social media            NO   \n",
       "8                            NO                  Online surfing            NO   \n",
       "9                           YES            live stream watching            NO   \n",
       "10                           NO                    Social Media            NO   \n",
       "11                          YES             Watching web series           YES   \n",
       "12                          YES              Listening to music            NO   \n",
       "13                           NO                         Reading           YES   \n",
       "14                           NO  Scrolling through social media            NO   \n",
       "15                           NO                   Online gaming           YES   \n",
       "16                           NO                   Online gaming            NO   \n",
       "17                           NO              Listening to music            NO   \n",
       "18                           NO                   Reading books            NO   \n",
       "19                           NO                         Dancing           YES   \n",
       "\n",
       "   Do you find yourself more connected with your family, close friends , relatives  ?  \\\n",
       "0                                                 YES                                   \n",
       "1                                                  NO                                   \n",
       "2                                                 YES                                   \n",
       "3                                                  NO                                   \n",
       "4                                                  NO                                   \n",
       "5                                                 YES                                   \n",
       "6                                                 YES                                   \n",
       "7                                                 YES                                   \n",
       "8                                                  NO                                   \n",
       "9                                                  NO                                   \n",
       "10                                                 NO                                   \n",
       "11                                                YES                                   \n",
       "12                                                 NO                                   \n",
       "13                                                YES                                   \n",
       "14                                                 NO                                   \n",
       "15                                                YES                                   \n",
       "16                                                YES                                   \n",
       "17                                                 NO                                   \n",
       "18                                                 NO                                   \n",
       "19                                                YES                                   \n",
       "\n",
       "   What you miss the most  \n",
       "0          School/college  \n",
       "1   Roaming around freely  \n",
       "2              Travelling  \n",
       "3     Friends , relatives  \n",
       "4              Travelling  \n",
       "5          School/college  \n",
       "6     Friends , relatives  \n",
       "7          Eating outside  \n",
       "8     Friends , relatives  \n",
       "9          School/college  \n",
       "10             Colleagues  \n",
       "11         Eating outside  \n",
       "12         School/college  \n",
       "13             Travelling  \n",
       "14         Eating outside  \n",
       "15         Eating outside  \n",
       "16             Colleagues  \n",
       "17  Roaming around freely  \n",
       "18    Friends , relatives  \n",
       "19    Friends , relatives  "
      ]
     },
     "execution_count": 121,
     "metadata": {},
     "output_type": "execute_result"
    }
   ],
   "source": [
    "df.head(20)"
   ]
  },
  {
   "cell_type": "code",
   "execution_count": 122,
   "metadata": {},
   "outputs": [
    {
     "data": {
      "text/plain": [
       "array(['1', '0', '3', '0.5', 'n', '2', '4.5', '1.5', 'N', '4', '0.3', '5',\n",
       "       'No tv', '0.1', '0.25', '6', '0.6', '7', '8', '15', ' ', '0.75',\n",
       "       '2.5', '3.5', '0.4'], dtype=object)"
      ]
     },
     "execution_count": 122,
     "metadata": {},
     "output_type": "execute_result"
    }
   ],
   "source": [
    "df['Time spent on TV'].unique()"
   ]
  },
  {
   "cell_type": "code",
   "execution_count": 123,
   "metadata": {},
   "outputs": [],
   "source": [
    "df['Time spent on TV'].replace({'n':'0', 'N':'0', 'No tv':'0', ' ':'0', 0:'0'}, inplace = True)\n",
    "df['Time spent on TV'] = pd.to_numeric(df['Time spent on TV']) "
   ]
  },
  {
   "cell_type": "code",
   "execution_count": 124,
   "metadata": {},
   "outputs": [
    {
     "data": {
      "text/plain": [
       "array(['Linkedin', 'Youtube', 'Instagram', 'Whatsapp', 'None', 'Reddit',\n",
       "       'Snapchat', 'Omegle', 'Twitter', 'Telegram', 'Facebook', 'Elyment',\n",
       "       'None ', 'Quora', 'Talklife', 'WhatsApp'], dtype=object)"
      ]
     },
     "execution_count": 124,
     "metadata": {},
     "output_type": "execute_result"
    }
   ],
   "source": [
    "df['Prefered social media platform'].unique()"
   ]
  },
  {
   "cell_type": "code",
   "execution_count": 141,
   "metadata": {},
   "outputs": [],
   "source": [
    "df['Prefered social media platform'].replace({'None ':'None','Whatsapp':'WhatsApp'}, inplace = True)"
   ]
  },
  {
   "cell_type": "code",
   "execution_count": 137,
   "metadata": {},
   "outputs": [
    {
     "data": {
      "text/plain": [
       "<matplotlib.axes._subplots.AxesSubplot at 0x246168047c0>"
      ]
     },
     "execution_count": 137,
     "metadata": {},
     "output_type": "execute_result"
    },
    {
     "data": {
      "image/png": "[encoded data removed]",
      "text/plain": [
       "<Figure size 936x432 with 1 Axes>"
      ]
     },
     "metadata": {
      "needs_background": "light"
     },
     "output_type": "display_data"
    }
   ],
   "source": [
    "age_of_student = df['Age of Subject'].value_counts()\n",
    "sns.countplot(x=\"Age of Subject\", data=df)"
   ]
  },
  {
   "cell_type": "markdown",
   "metadata": {},
   "source": [
    "Ожидаемо в исследовании большая часть опрошенных в возрасте 12-23 лет, что как раз соответствует возрасту обучения в школе и институте. Но при этом есть достаточно большой хвост из обучавшихся в возрасте вплоть до 59 лет, вероятно такая разница в возрасте будет отражаться в привычках во время карантина."
   ]
  },
  {
   "cell_type": "code",
   "execution_count": 105,
   "metadata": {},
   "outputs": [
    {
     "data": {
      "text/plain": [
       "<matplotlib.axes._subplots.AxesSubplot at 0x24610a0a040>"
      ]
     },
     "execution_count": 105,
     "metadata": {},
     "output_type": "execute_result"
    },
    {
     "data": {
      "image/png": "[encoded data removed]",
      "text/plain": [
       "<Figure size 936x432 with 1 Axes>"
      ]
     },
     "metadata": {
      "needs_background": "light"
     },
     "output_type": "display_data"
    }
   ],
   "source": [
    "df[['Time spent on Online Class', 'Time spent on self study', 'Time spent on fitness', 'Time spent on sleep', 'Time spent on social media', 'Time spent on TV']].plot(kind='box',\n",
    "                                        title='Time distributionn')"
   ]
  },
  {
   "cell_type": "markdown",
   "metadata": {},
   "source": [
    "Медиана времени онлайн-классов расположена выше, чем медиана времени самообучения, но при этом количество выбросов с высокими значениями для самообучения больше. Дыв верхних значения для самообучения 17 и 18 часов выглядят маловероятными в реальности. Для свободного времения более популярными вероятно являются соцсети - значение медианы времен, проведенных в сетях выше, чем аналогичное значение для фитнеса и ТВ."
   ]
  },
  {
   "cell_type": "code",
   "execution_count": 139,
   "metadata": {},
   "outputs": [
    {
     "data": {
      "text/plain": [
       "<matplotlib.axes._subplots.AxesSubplot at 0x24616aa9520>"
      ]
     },
     "execution_count": 139,
     "metadata": {},
     "output_type": "execute_result"
    },
    {
     "data": {
      "image/png": "[encoded data removed]",
      "text/plain": [
       "<Figure size 936x432 with 1 Axes>"
      ]
     },
     "metadata": {
      "needs_background": "light"
     },
     "output_type": "display_data"
    }
   ],
   "source": [
    "social_media = df['Prefered social media platform'].value_counts().head(7)\n",
    "social_media.plot(kind='bar')"
   ]
  },
  {
   "cell_type": "markdown",
   "metadata": {},
   "source": [
    "Не смотря на то, что facebook имеет более 2,5 млрд пользователей, эта соцсеть не была среди наиболее популярных у опрошенных во время карантина. Интересно, что LinkedLin оказался более популярен, чем FB, можно предположить, что эта соцсеть была популярна как раз у более взрослой части опрошенных в силу специфики контента"
   ]
  },
  {
   "cell_type": "code",
   "execution_count": 134,
   "metadata": {},
   "outputs": [
    {
     "data": {
      "text/plain": [
       "<seaborn.axisgrid.PairGrid at 0x24615fa7700>"
      ]
     },
     "execution_count": 134,
     "metadata": {},
     "output_type": "execute_result"
    },
    {
     "data": {
      "image/png": "[encoded data removed]",
      "text/plain": [
       "<Figure size 540x540 with 12 Axes>"
      ]
     },
     "metadata": {
      "needs_background": "light"
     },
     "output_type": "display_data"
    }
   ],
   "source": [
    "sns.pairplot(df[['Time spent on fitness', 'Number of meals per day', 'Age of Subject']])"
   ]
  },
  {
   "cell_type": "markdown",
   "metadata": {},
   "source": [
    "Можно заметить, что как для фитнеса, так и для приемов пищи максимальные значения характерны для учащихся в возрасте до 25 лет. При этом  возрастные опрошенные придерживались более умеренных привычек. "
   ]
  },
  {
   "cell_type": "code",
   "execution_count": 111,
   "metadata": {},
   "outputs": [
    {
     "data": {
      "image/png": "[encoded data removed]",
      "text/plain": [
       "<Figure size 936x432 with 1 Axes>"
      ]
     },
     "metadata": {},
     "output_type": "display_data"
    }
   ],
   "source": [
    "rating = df['Medium for online class'].value_counts().sort_values(ascending = False).head(3)\n",
    "ax = rating.plot(kind='pie')"
   ]
  },
  {
   "cell_type": "markdown",
   "metadata": {},
   "source": [
    "Планшеты почти не использовались для онлайн-обучения во время карантина, хотя доля смартфонов и ноутбуков практически одинакова"
   ]
  },
  {
   "cell_type": "code",
   "execution_count": 148,
   "metadata": {},
   "outputs": [],
   "source": [
    "relax = df.groupby('Prefered social media platform').mean()[['Time spent on social media', 'Time spent on TV', 'Time spent on sleep']]"
   ]
  },
  {
   "cell_type": "code",
   "execution_count": 153,
   "metadata": {},
   "outputs": [
    {
     "data": {
      "text/plain": [
       "<matplotlib.axes._subplots.AxesSubplot at 0x24617744e20>"
      ]
     },
     "execution_count": 153,
     "metadata": {},
     "output_type": "execute_result"
    },
    {
     "data": {
      "image/png": "[encoded data removed]",
      "text/plain": [
       "<Figure size 936x432 with 2 Axes>"
      ]
     },
     "metadata": {
      "needs_background": "light"
     },
     "output_type": "display_data"
    }
   ],
   "source": [
    "sns.heatmap(relax, cmap=\"vlag\")"
   ]
  },
  {
   "cell_type": "markdown",
   "metadata": {},
   "source": [
    "Talklife - соц сеть для моральной поддержки людям с психологическими трудностями. Среднее время использование этой сети резко отличается от других приложений в большую сторону. При этом люди, предпочитавшие эту соц сеть, имели более низкую продолжительность сна. По всей вероятности эта группа учащихся столкнулась с ментальнуми трудностями во время или до карантина.\n",
    "\n",
    "Интересно отметить, что большее среднее время, проведенное в соц сетях, не соответствует самым популярным сетям. Snapchat, omegle, twitter, Fb не были наиболее распространены среди ответов, однако среднее время использование этих соцсетей выше."
   ]
  },
  {
   "cell_type": "code",
   "execution_count": null,
   "metadata": {},
   "outputs": [],
   "source": []
  }
 ],
 "metadata": {
  "kernelspec": {
   "display_name": "Python 3",
   "language": "python",
   "name": "python3"
  },
  "language_info": {
   "codemirror_mode": {
    "name": "ipython",
    "version": 3
   },
   "file_extension": ".py",
   "mimetype": "text/x-python",
   "name": "python",
   "nbconvert_exporter": "python",
   "pygments_lexer": "ipython3",
   "version": "3.8.3"
  }
 },
 "nbformat": 4,
 "nbformat_minor": 4
}
