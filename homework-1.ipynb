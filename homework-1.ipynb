{
 "cells": [
  {
   "cell_type": "code",
   "execution_count": 3,
   "metadata": {},
   "outputs": [
    {
     "name": "stdout",
     "output_type": "stream",
     "text": [
      "введите фразу 1Насколько проще было бы писать программы, если бы не заказчики\n",
      "введите фразу 2Насколько проще было бы писать программы, если бы не заказчики\n",
      "фразы равной длины\n"
     ]
    }
   ],
   "source": [
    "#Задание 1\n",
    "phrase_1 = input('введите фразу 1')\n",
    "phrase_2 = input('введите фразу 2')\n",
    "#сравниваем количество знаков в двух введенных фразах\n",
    "if len(phrase_1) > len(phrase_2):\n",
    "    print('фраза 1 длинее фразы 2')\n",
    "elif len(phrase_1) < len(phrase_2):\n",
    "    print('фраза 2 длинее фразы 1')\n",
    "else: \n",
    "    print('фразы равной длины')\n"
   ]
  },
  {
   "cell_type": "code",
   "execution_count": 11,
   "metadata": {},
   "outputs": [
    {
     "name": "stdout",
     "output_type": "stream",
     "text": [
      "ведите год2020\n",
      "високосный год\n"
     ]
    }
   ],
   "source": [
    "#Задание 2\n",
    "a = int(input ('ведите год'))\n",
    "#для определения високосности разделим год на 4 и сравним остаток от деления с 0\n",
    "if a % 4 != 0 or a % 100 == 0 and a % 400 != 0:\n",
    "    print('невисокосный год')\n",
    "else:\n",
    "    print('високосный год')"
   ]
  },
  {
   "cell_type": "code",
   "execution_count": 6,
   "metadata": {},
   "outputs": [
    {
     "name": "stdout",
     "output_type": "stream",
     "text": [
      "ведите день30\n",
      "ведите месяцсентябрь\n",
      "весы\n"
     ]
    }
   ],
   "source": [
    "#Задание 3\n",
    "a = int(input('ведите день'))\n",
    "b = input('ведите месяц')\n",
    "#сравним введенные данные со справочными данными по знакам - для этого должны одновременно выполняться два условия - по числу и месяцу рождения\n",
    "if b =='март' and a >= 21 or b == 'апрель' and a <= 20:\n",
    "    print('овен')\n",
    "elif b =='апрель' and a >= 21 or b == 'май' and a <= 21:\n",
    "    print('телец')\n",
    "elif b == 'май' and a >= 22 or b == 'июнь' and a <= 21:\n",
    "    print('близнецы')\n",
    "elif b == 'июнь' and a >= 22 or b == 'июль' and a <= 22:\n",
    "    print('рак')\n",
    "elif b == 'июль' and a >= 23 or b == 'август' and a <= 21:\n",
    "    print('лев')\n",
    "elif b == 'август' and a >= 22 or b == 'сентябрь' and a <= 23:\n",
    "    print('дева')\n",
    "elif b == 'сентябрь' and a >= 24 or b == 'октябрь' and a <= 23:\n",
    "    print('весы')\n",
    "elif b == 'октябрь' and a >= 24 or b == 'ноябрь' and a <= 23:\n",
    "    print('скорпион')\n",
    "elif b == 'ноябрь' and a >= 24 or b == 'декабрь' and a <= 22:\n",
    "    print('стрелец')\n",
    "elif b == 'декабрь' and a >= 23 or b == 'январь' and a <= 20:\n",
    "    print('козерог')\n",
    "elif b == 'январь' and a >= 21 or b == 'февраль' and a <= 19:\n",
    "    print('водолей')\n",
    "elif b == 'февраль' and a >= 20 or b == 'март' and a <= 20:\n",
    "    print('рыбы')\n",
    "else:    \n",
    "    print('mistake')"
   ]
  },
  {
   "cell_type": "code",
   "execution_count": 18,
   "metadata": {},
   "outputs": [
    {
     "name": "stdout",
     "output_type": "stream",
     "text": [
      "введите ширину 67\n",
      "введите длину 89\n",
      "введите высоту 99\n",
      "Стандартная коробка №3\n"
     ]
    }
   ],
   "source": [
    "#Задание 4\n",
    "wh = int(input('введите ширину '))\n",
    "lh = int(input('введите длину '))\n",
    "ht = int(input('введите высоту '))\n",
    "\n",
    "#сравним введенные данные с задаными условиями. 1 вариант - одновременное выполнение трех условий\n",
    "if wh < 15 and lh < 15 and ht < 15:\n",
    "    print('Коробка №1')\n",
    "#2 условие - необходимо выполнение хотя бы 1 из 3 условий   \n",
    "elif lh > 200:\n",
    "    print('Упаковка для лыж')\n",
    "elif 50 > wh > 15 or 50 > lh > 15 or 50 > ht > 15:\n",
    "    print('Коробка №2')\n",
    "else:\n",
    "    print('Стандартная коробка №3')\n"
   ]
  },
  {
   "cell_type": "code",
   "execution_count": 17,
   "metadata": {},
   "outputs": [
    {
     "name": "stdout",
     "output_type": "stream",
     "text": [
      "введите 6-ти значный номер билета785472\n",
      "билет несчастливый\n"
     ]
    }
   ],
   "source": [
    "#Задание 5\n",
    "X = int(input('введите 6-ти значный номер билета '))\n",
    "# представим 6-ти значное число в формате abcdef. Для определения характеристики числа необходимо выделить значения a,b,c,d,e,f.\n",
    "# Для этого используем последовательное целочисленное деление, так как X=a*100000+bcdef, далее bcdef = b*1000+cdef итд. \n",
    "a = X // 100000\n",
    "a1 = X % 100000\n",
    "b = a1 // 10000\n",
    "a2 = a1 % 10000\n",
    "c = a2 // 1000\n",
    "a3 = a2 % 1000\n",
    "d = a3 // 100\n",
    "a4 = a3 % 100\n",
    "e = a4 // 10\n",
    "f = a4 % 10\n",
    "\n",
    "if (a + b + c) == (d + e + f):\n",
    "    print('билет счастливый')\n",
    "else: print('билет несчастливый')"
   ]
  },
  {
   "cell_type": "code",
   "execution_count": 21,
   "metadata": {},
   "outputs": [
    {
     "name": "stdout",
     "output_type": "stream",
     "text": [
      "введите тип фигурытреугольник\n",
      "введите длину стороны А5\n",
      "введите длину стороны В8\n",
      "введите длину стороны С9\n",
      "19.8997487421324 площадь треугольника\n"
     ]
    }
   ],
   "source": [
    "#Задание 6\n",
    "form = input('введите тип фигуры')\n",
    "# в зависимости от типа фигуры вводим необходимые данные для расчета площади\n",
    "if  form == 'круг':\n",
    "    rad = int(input('введите радиус круга'))\n",
    "elif form =='треугольник':\n",
    "    a = int(input('введите длину стороны А'))\n",
    "    b = int(input('введите длину стороны В'))\n",
    "    c = int(input('введите длину стороны С'))\n",
    "elif form == 'прямоугольник':\n",
    "    x = int(input('введите длину стороны А'))\n",
    "    y = int(input('введите длину стороны В'))\n",
    "else: print('ошибка ввода')\n",
    "    \n",
    "if form == 'круг':\n",
    "    s1 = 3.14159 * rad ** 2 \n",
    "    print(s1, 'площадь круга')\n",
    "elif form == 'треугольник':\n",
    "#площадь треугольника считаем по формуле Герона, где p - полупериметр\n",
    "    p = (a + b + c) / 2\n",
    "    s2 = (p * (p - a) * (p - b) * (p - c)) ** 0.5\n",
    "    print(s2, 'площадь треугольника')\n",
    "elif form == 'прямоугольник':\n",
    "    s3 = x * y\n",
    "    print(s3, 'площадь прямоуголь')\n",
    "else: print('ошибка ввода')"
   ]
  },
  {
   "cell_type": "code",
   "execution_count": null,
   "metadata": {},
   "outputs": [],
   "source": []
  }
 ],
 "metadata": {
  "kernelspec": {
   "display_name": "Python 3",
   "language": "python",
   "name": "python3"
  },
  "language_info": {
   "codemirror_mode": {
    "name": "ipython",
    "version": 3
   },
   "file_extension": ".py",
   "mimetype": "text/x-python",
   "name": "python",
   "nbconvert_exporter": "python",
   "pygments_lexer": "ipython3",
   "version": "3.8.3"
  }
 },
 "nbformat": 4,
 "nbformat_minor": 4
}
