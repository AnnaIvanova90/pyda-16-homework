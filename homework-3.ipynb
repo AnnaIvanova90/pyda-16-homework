{
 "cells": [
  {
   "cell_type": "code",
   "execution_count": 2,
   "metadata": {},
   "outputs": [
    {
     "data": {
      "text/plain": [
       "{15, 35, 54, 98, 119, 213}"
      ]
     },
     "execution_count": 2,
     "metadata": {},
     "output_type": "execute_result"
    }
   ],
   "source": [
    "#Задание 1\n",
    "\n",
    "ids = {'user1': [213, 213, 213, 15, 213],\n",
    " 'user2': [54, 54, 119, 119, 119], \n",
    " 'user3': [213, 98, 98, 35]}\n",
    "\n",
    "a = sum(list(ids.values()), []) #объединяем в единый список все значения в исходных данных\n",
    "set(a) #переводим данный список во множество, убирая повторы"
   ]
  },
  {
   "cell_type": "code",
   "execution_count": 14,
   "metadata": {},
   "outputs": [
    {
     "name": "stdout",
     "output_type": "stream",
     "text": [
      "Поисковых запросов, содержащих 3 слов(а): 57.14 %\n",
      "Поисковых запросов, содержащих 2 слов(а): 42.86 %\n"
     ]
    }
   ],
   "source": [
    "#Задание2\n",
    "queries = [\n",
    "'смотреть сериалы онлайн',\n",
    "'новости спорта',\n",
    "'афиша кино',\n",
    "'курс доллара',\n",
    "'сериалы этим летом',\n",
    "'курс по питону',\n",
    "'сериалы про спорт',\n",
    "]\n",
    "#введем переменные счетчиков\n",
    "\n",
    "res = {}\n",
    "for element in queries:\n",
    "    element_list = element.split(' ') #преобразовываем каждую строку в список\n",
    "    \n",
    "    if len(element_list) not in res:\n",
    "        res [len(element_list)] = 1 \n",
    "    else:\n",
    "        res[len(element_list)] += 1\n",
    "        \n",
    "for words, count in res.items():\n",
    "    print ('Поисковых запросов, содержащих', words, 'слов(а):', round(count/ len(queries) * 100, 2), '%')"
   ]
  },
  {
   "cell_type": "code",
   "execution_count": 4,
   "metadata": {},
   "outputs": [
    {
     "data": {
      "text/plain": [
       "{'vk': {'revenue': 103, 'cost': 98, 'ROI': 5.1},\n",
       " 'yandex': {'revenue': 179, 'cost': 153, 'ROI': 16.99},\n",
       " 'facebook': {'revenue': 103, 'cost': 110, 'ROI': -6.36},\n",
       " 'adwords': {'revenue': 35, 'cost': 34, 'ROI': 2.94},\n",
       " 'twitter': {'revenue': 11, 'cost': 24, 'ROI': -54.17}}"
      ]
     },
     "execution_count": 4,
     "metadata": {},
     "output_type": "execute_result"
    }
   ],
   "source": [
    "#Задание3\n",
    "results = {'vk': {'revenue': 103, 'cost': 98},\n",
    "'yandex': {'revenue': 179, 'cost': 153},\n",
    "'facebook': {'revenue': 103, 'cost': 110},\n",
    "'adwords': {'revenue': 35, 'cost': 34},\n",
    "'twitter': {'revenue': 11, 'cost': 24},}\n",
    "\n",
    "for info in list(results.values()): #выделяем словарь, содержащий нужные нам значения\n",
    "    ROI = (info['revenue'] / info['cost'] - 1 ) * 100\n",
    "    info ['ROI'] = round(ROI, 2) #добавляем в словарь новое значение с ключом ROI\n",
    "\n",
    "results"
   ]
  },
  {
   "cell_type": "code",
   "execution_count": 6,
   "metadata": {},
   "outputs": [
    {
     "name": "stdout",
     "output_type": "stream",
     "text": [
      "Максимальный объем продаж на рекламном канале:  vk\n"
     ]
    }
   ],
   "source": [
    "#Задание4 \n",
    "stats = {'facebook': 55, 'yandex': 115, 'vk': 120, 'google': 99, 'email': 42, 'ok': 98}\n",
    "\n",
    "new = {value: key for key, value in stats.items()} #создаем новый словарь, где ключи и значения поменяны местами\n",
    "a = sorted(new, reverse = True) #сортирум по убыванию\n",
    "print ('Максимальный объем продаж на рекламном канале: ', new[a[0]])"
   ]
  },
  {
   "cell_type": "code",
   "execution_count": 9,
   "metadata": {},
   "outputs": [
    {
     "data": {
      "text/plain": [
       "{'a': {'b': {'c': {'d': {'e': 'f'}}}}}"
      ]
     },
     "execution_count": 9,
     "metadata": {},
     "output_type": "execute_result"
    }
   ],
   "source": [
    "#Задание5\n",
    "#my_list = ['2018-01-01', 'yandex', 'cpc', 100]\n",
    "my_list = ['a', 'b', 'c', 'd', 'e', 'f']\n",
    "\n",
    "my_list.reverse() #получаем обратный список\n",
    "result = {my_list[1]:my_list[0]} #задаем первое значение \n",
    "for i in range (2, len(my_list)):\n",
    "    result = {my_list[i]: result}\n",
    "result"
   ]
  },
  {
   "cell_type": "code",
   "execution_count": 13,
   "metadata": {},
   "outputs": [],
   "source": [
    "#Задание6\n",
    "cook_book = {\n",
    "'салат': [\n",
    "{'ingridient_name': 'сыр', 'quantity': 50, 'measure': 'гр'},\n",
    "{'ingridient_name': 'томаты','quantity': 20,'measure': 'гр'},\n",
    "{'ingridient_name': 'огурцы', 'quantity': 20, 'measure': 'гр'},\n",
    "{'ingridient_name': 'маслины', 'quantity': 10, 'measure': 'гр'},\n",
    "{'ingridient_name': 'оливковое масло', 'quantity': 20,'measure': 'мл'},\n",
    "{'ingridient_name': 'салат', 'quantity': 10, 'measure': 'гр'},\n",
    "{'ingridient_name': 'перец', 'quantity': 20, 'measure': 'гр'}\n",
    "],\n",
    "'пицца': [\n",
    "{'ingridient_name': 'сыр', 'quantity': 20, 'measure': 'гр'},\n",
    "{'ingridient_name': 'колбаса', 'quantity': 30, 'measure': 'гр'},\n",
    "{'ingridient_name': 'бекон', 'quantity': 30,'measure': 'гр'},\n",
    "{'ingridient_name': 'оливки', 'quantity': 10, 'measure': 'гр'},\n",
    "{'ingridient_name': 'томаты', 'quantity': 20, 'measure': 'гр'},\n",
    "{'ingridient_name': 'тесто', 'quantity': 100, 'measure': 'гр'},\n",
    "],\n",
    "'лимонад': [\n",
    "{'ingridient_name': 'лимон', 'quantity': 1, 'measure': 'шт'},\n",
    "{'ingridient_name': 'вода', 'quantity': 200, 'measure': 'мл'},\n",
    "{'ingridient_name': 'сахар', 'quantity': 10,'measure': 'гр'},\n",
    "{'ingridient_name': 'лайм', 'quantity': 20,'measure': 'гр'},\n",
    "]\n",
    "}\n",
    "\n"
   ]
  },
  {
   "cell_type": "code",
   "execution_count": 12,
   "metadata": {},
   "outputs": [
    {
     "name": "stdout",
     "output_type": "stream",
     "text": [
      "сыр 350гр\n",
      "томаты 200гр\n",
      "огурцы 100гр\n",
      "маслины 50гр\n",
      "оливковое масло 100мл\n",
      "салат 50гр\n",
      "перец 100гр\n",
      "колбаса 150гр\n",
      "бекон 150гр\n",
      "оливки 50гр\n",
      "тесто 500гр\n",
      "лимон 5шт\n",
      "вода 1000мл\n",
      "сахар 50гр\n",
      "лайм 100гр\n"
     ]
    }
   ],
   "source": [
    "person = 5\n",
    "shop_dict = {}\n",
    "for dish in cook_book.values():\n",
    "    for ingr in dish:\n",
    "        if (ingr['ingridient_name'], ingr['measure']) not in shop_dict:\n",
    "            shop_dict[(ingr['ingridient_name'], ingr['measure'])] = {'quantity': ingr['quantity'] * person}\n",
    "        else:\n",
    "            shop_dict[(ingr['ingridient_name'], ingr['measure'])]['quantity'] += ingr['quantity'] * person\n",
    "\n",
    "for name, q in shop_dict.items():\n",
    "    print(f'{name[0]} {q[\"quantity\"]}{name[1]}')"
   ]
  },
  {
   "cell_type": "code",
   "execution_count": null,
   "metadata": {},
   "outputs": [],
   "source": []
  }
 ],
 "metadata": {
  "kernelspec": {
   "display_name": "Python 3",
   "language": "python",
   "name": "python3"
  },
  "language_info": {
   "codemirror_mode": {
    "name": "ipython",
    "version": 3
   },
   "file_extension": ".py",
   "mimetype": "text/x-python",
   "name": "python",
   "nbconvert_exporter": "python",
   "pygments_lexer": "ipython3",
   "version": "3.8.3"
  }
 },
 "nbformat": 4,
 "nbformat_minor": 4
}
