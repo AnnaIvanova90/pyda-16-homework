{
 "cells": [
  {
   "cell_type": "code",
   "execution_count": 82,
   "metadata": {},
   "outputs": [],
   "source": [
    "documents = [\n",
    " {'type': 'passport', 'number': '2207 876234', 'name': 'Василий Гупкин'},\n",
    " {'type': 'invoice', 'number': '11-2', 'name': 'Геннадий Покемонов'},\n",
    " {'type': 'insurance', 'number': '10006', 'name': 'Аристарх Павлов'}\n",
    "]\n",
    "\n",
    "directories = {\n",
    " '1': ['2207 876234', '11-2'],\n",
    " '2': ['10006'],\n",
    " '3': []\n",
    "}"
   ]
  },
  {
   "cell_type": "code",
   "execution_count": 73,
   "metadata": {},
   "outputs": [
    {
     "name": "stdout",
     "output_type": "stream",
     "text": [
      "введите номер документа11-2\n"
     ]
    },
    {
     "data": {
      "text/plain": [
       "'Владелец документа: Геннадий Покемонов'"
      ]
     },
     "execution_count": 73,
     "metadata": {},
     "output_type": "execute_result"
    }
   ],
   "source": [
    "def doc_number(documents):\n",
    "    num = input('введите номер документа')\n",
    "    res = 0\n",
    "    for person in documents: \n",
    "        if num == person['number']: res = f\"Владелец документа: {person['name']}\"\n",
    "\n",
    "    if res == 0: res = 'Документ не найден в базе'\n",
    "    return res\n",
    "\n",
    "doc_number(documents)"
   ]
  },
  {
   "cell_type": "code",
   "execution_count": 4,
   "metadata": {},
   "outputs": [
    {
     "name": "stdout",
     "output_type": "stream",
     "text": [
      "Введите номер документа:\n"
     ]
    },
    {
     "data": {
      "text/plain": [
       "'Документ не найден в базе'"
      ]
     },
     "execution_count": 4,
     "metadata": {},
     "output_type": "execute_result"
    }
   ],
   "source": [
    "def storage(directories):\n",
    "    num = input('Введите номер документа:')\n",
    "    res = 0\n",
    "    for item in directories.items():\n",
    "        for i in range (0, len(item[1])):\n",
    "            if num == item[1][i]: res = f\"Документ хранится на полке: {item[0]}\"\n",
    "    \n",
    "    if res == 0: res = 'Документ не найден в базе'\n",
    "    \n",
    "    return res \n",
    "storage (directories)    "
   ]
  },
  {
   "cell_type": "code",
   "execution_count": 4,
   "metadata": {},
   "outputs": [
    {
     "name": "stdout",
     "output_type": "stream",
     "text": [
      "№: 2207 876234, тип: passport, владелец: Василий Гупкин, полка хранения: 1\n",
      "№: 10006, тип: insurance, владелец: Аристарх Павлов, полка хранения: 2\n"
     ]
    }
   ],
   "source": [
    "def catalog(documents, directories):\n",
    "    for line in documents:\n",
    "        for item in directories.items():\n",
    "            for i in range (0, len(item[1])):\n",
    "                if line['number'] == item[1][i]: \n",
    "                    print (f\"№: {line['number']}, тип: {line['type']}, владелец: {line['name']}, полка хранения: {item[0]}\")\n",
    "catalog (documents, directories)"
   ]
  },
  {
   "cell_type": "code",
   "execution_count": 56,
   "metadata": {},
   "outputs": [
    {
     "name": "stdout",
     "output_type": "stream",
     "text": [
      "Введите номер полки:5\n"
     ]
    },
    {
     "data": {
      "text/plain": [
       "\"Полка добавлена. Текущий перечень полок: ['1', '2', '5']\""
      ]
     },
     "execution_count": 56,
     "metadata": {},
     "output_type": "execute_result"
    }
   ],
   "source": [
    "def shell(directories):\n",
    "    sh = input('Введите номер полки:')\n",
    "    check = 0\n",
    "    if sh in directories.keys(): check = 1\n",
    "    else: directories[sh] = [] \n",
    "          \n",
    "    if check == 1: res = f\"Такая полка уже существует. Текущий перечень полок: {list(directories.keys())}\"\n",
    "    else: res = f\"Полка добавлена. Текущий перечень полок: {list(directories.keys())}\"\n",
    "    return res\n",
    "shell(directories)"
   ]
  },
  {
   "cell_type": "code",
   "execution_count": 57,
   "metadata": {},
   "outputs": [
    {
     "name": "stdout",
     "output_type": "stream",
     "text": [
      "Введите номер полки:5\n"
     ]
    },
    {
     "data": {
      "text/plain": [
       "\"Полка удалена. Текущий перечень полок: ['1', '2']\""
      ]
     },
     "execution_count": 57,
     "metadata": {},
     "output_type": "execute_result"
    }
   ],
   "source": [
    "def shell_del(directories):\n",
    "    sh = input('Введите номер полки:')\n",
    "    direct = directories.copy()\n",
    "    check = 0\n",
    "    for i in direct.keys():\n",
    "        if sh == i and len(direct[i]) == 0:\n",
    "            del(directories[i])\n",
    "            res =f\"Полка удалена. Текущий перечень полок: {list(directories.keys())}\"\n",
    "            check +=1\n",
    "        elif sh == i and len(direct[i]) != 0:\n",
    "            res =f\"На полке есть документы, удалите их перед удалением полки. Текущий перечень полок: {list(directories.keys())}\"\n",
    "            check +=1\n",
    "    if check == 0: res = f\"Такой полки не существует. Текущий перечень полок: {list(directories.keys())}\"\n",
    "    \n",
    "    return res\n",
    "shell_del(directories)"
   ]
  },
  {
   "cell_type": "code",
   "execution_count": 69,
   "metadata": {},
   "outputs": [
    {
     "name": "stdout",
     "output_type": "stream",
     "text": [
      "Введите номер документа:\n",
      "Введите тип документа:\n",
      "Введите владельца документа:\n",
      "Введите полку для хранения:\n",
      "№: 2207 876234, тип: passport, владелец: Василий Гупкин, полка хранения: 1\n",
      "№: 11-2, тип: invoice, владелец: Геннадий Покемонов, полка хранения: 1\n",
      "№: 10006, тип: insurance, владелец: Аристарх Павлов, полка хранения: 2\n",
      "None\n"
     ]
    }
   ],
   "source": [
    "def addition(documents, directories):\n",
    "    num = input('Введите номер документа:')\n",
    "    form = input('Введите тип документа:')\n",
    "    person = input('Введите владельца документа:')\n",
    "    shell = input('Введите полку для хранения:')\n",
    "    \n",
    "    if shell not in directories.keys():\n",
    "        res = 'Такой полки не существует. Добавьте полку командой as'\n",
    "    else: documents.append({'type': form, 'number': num, 'name': person})\n",
    "           \n",
    "    for sh in directories.keys():\n",
    "        if shell == sh: \n",
    "            directories[sh].append(num)\n",
    "            res = 'Документ добавлен. Текущий список документов:'\n",
    "    \n",
    "    return res\n",
    "addition(documents, directories)\n",
    "print(catalog(documents, directories))"
   ]
  },
  {
   "cell_type": "code",
   "execution_count": 91,
   "metadata": {},
   "outputs": [
    {
     "name": "stdout",
     "output_type": "stream",
     "text": [
      "Введите номер документа:11-2\n",
      "Документ удален. Текущий список документов:\n",
      "№: 2207 876234, тип: passport, владелец: Василий Гупкин, полка хранения: 1\n",
      "№: 10006, тип: insurance, владелец: Аристарх Павлов, полка хранения: 2\n",
      "None\n"
     ]
    }
   ],
   "source": [
    "def erase(documents, directories):\n",
    "    num = input('Введите номер документа:')\n",
    "    values = []\n",
    "    for item in directories.values():\n",
    "        values.extend(item)\n",
    "    if num not in values:\n",
    "        res = 'Документ не найден в базе. Текущий список документов:'\n",
    "    direct = directories.copy()\n",
    "    docs = documents.copy()\n",
    "    for i in range (0, len(documents)): \n",
    "        if num == documents[i]['number']: del(docs[i])\n",
    "    for item in directories.items():\n",
    "        for line in direct.items():\n",
    "            for i in range (0, len(item[1])):\n",
    "                if num == item[1][i]: \n",
    "                    del(line[1][i])\n",
    "                    res = 'Документ удален. Текущий список документов:'\n",
    "    print(res)\n",
    "    print(catalog(documents, directories))\n",
    "\n",
    "\n",
    "erase(documents, directories)"
   ]
  },
  {
   "cell_type": "code",
   "execution_count": 90,
   "metadata": {},
   "outputs": [
    {
     "name": "stdout",
     "output_type": "stream",
     "text": [
      "Введите номер документа:11-2\n",
      "Введите полку для хранения:1\n",
      "Документ перемещен. Текущий список документов:\n",
      "№: 2207 876234, тип: passport, владелец: Василий Гупкин, полка хранения: 1\n",
      "№: 11-2, тип: invoice, владелец: Геннадий Покемонов, полка хранения: 1\n",
      "№: 10006, тип: insurance, владелец: Аристарх Павлов, полка хранения: 2\n",
      "None\n"
     ]
    }
   ],
   "source": [
    "def replacement(directories):\n",
    "    num = input('Введите номер документа:')\n",
    "    shell = input('Введите полку для хранения:')\n",
    "   \n",
    "    values = []\n",
    "    for item in directories.values():\n",
    "        values.extend(item)\n",
    "    \n",
    "    if num not in values:\n",
    "        print('Документ не найден в базе. Текущий список документов:')\n",
    "    if shell not in directories.keys():\n",
    "        print (f'Такой полки не существует. Текущий перечень полок: {list(directories.keys())}')\n",
    "    else:\n",
    "            print('Документ перемещен. Текущий список документов:')\n",
    "            for item in directories.items():\n",
    "                for i in range (0, len(item[1])):\n",
    "                    if num == item[1][i]: \n",
    "                         del(item[1][i])\n",
    "                if shell == item[0]:\n",
    "                    item[1].append(num)\n",
    "    \n",
    "\n",
    "\n",
    "replacement(directories)\n",
    "\n",
    "   \n",
    "print(catalog(documents, directories))\n"
   ]
  },
  {
   "cell_type": "code",
   "execution_count": 62,
   "metadata": {},
   "outputs": [
    {
     "name": "stdout",
     "output_type": "stream",
     "text": [
      "Введите командуq\n",
      "До свидания!\n"
     ]
    }
   ],
   "source": [
    "def main():\n",
    "    while True:\n",
    "        user_input = input('Введите команду')\n",
    "        if user_input == 'p':\n",
    "            print(doc_number(documents))\n",
    "        elif user_input == 's':\n",
    "            print(storage (directories))\n",
    "        elif user_input == 'l':\n",
    "            print(catalog(documents, directories))\n",
    "        elif user_input == 'ads':\n",
    "            print(shell(directories))\n",
    "        elif user_input == 'ds':\n",
    "            print(shell_del(directories))\n",
    "        elif user_input == 'ad':\n",
    "            print(addition(documents, directories))\n",
    "            print(data(documents, directories))\n",
    "        elif user_input == 'd':\n",
    "            print(erase(documents, directories))\n",
    "            print(catalog (documents, directories))\n",
    "        elif user_input == 'm':\n",
    "            print(replacement(directories))\n",
    "            print(catalog (documents, directories))\n",
    "        elif user_input == 'q':\n",
    "            print('До свидания!')\n",
    "            break\n",
    "main()"
   ]
  }
 ],
 "metadata": {
  "kernelspec": {
   "display_name": "Python 3",
   "language": "python",
   "name": "python3"
  },
  "language_info": {
   "codemirror_mode": {
    "name": "ipython",
    "version": 3
   },
   "file_extension": ".py",
   "mimetype": "text/x-python",
   "name": "python",
   "nbconvert_exporter": "python",
   "pygments_lexer": "ipython3",
   "version": "3.8.3"
  }
 },
 "nbformat": 4,
 "nbformat_minor": 4
}
